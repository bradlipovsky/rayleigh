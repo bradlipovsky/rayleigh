{
 "cells": [
  {
   "cell_type": "code",
   "execution_count": null,
   "id": "937d0f1b",
   "metadata": {},
   "outputs": [],
   "source": [
    "# Implement the propagator matrix approach to "
   ]
  },
  {
   "cell_type": "code",
   "execution_count": 17,
   "id": "d0fff9a5",
   "metadata": {},
   "outputs": [],
   "source": [
    "import numpy as np\n",
    "import matplotlib.pyplot as plt"
   ]
  },
  {
   "cell_type": "code",
   "execution_count": 21,
   "id": "20bd4161",
   "metadata": {},
   "outputs": [],
   "source": [
    "def P(omega,k,z,z0,mu=10e10,poisson=0.25,rho=2500):\n",
    "    \n",
    "    M = 2*mu*(1-poisson) / (1-2*poisson)\n",
    "    alpha =  np.sqrt ( M /rho )\n",
    "    beta = np.sqrt(mu/rho)\n",
    "    gamma = np.sqrt(k**2 - omega**2 / alpha**2)\n",
    "    nu = np.sqrt(k**2 - omega**2 / beta**2)\n",
    "    \n",
    "    sh2_g = np.sinh(gamma*(z-z0)/2)**2\n",
    "    sh2_v = np.sinh(nu*(z-z0)/2)**2\n",
    "    sh_v  = np.sinh(nu*(z-z0))\n",
    "    sh_g  = np.sinh(gamma*(z-z0))\n",
    "\n",
    "    P11 = 1 + 2*mu/omega**2/rho * (2*k**2 * sh2_g - (k**2+nu**2)*sh2_v)\n",
    "    P12 = k*mu/omega**2/rho * ((k**2+nu**2)*sh_g/gamma - 2*nu*sh_v)\n",
    "    P13 = 1/omega**2/rho*(k**2/gamma *sh_g - nu*sh_v)\n",
    "    P14 = 2*k/omega**2/rho*(sh2_g - sh2_v)\n",
    "    \n",
    "    P21 = k*mu/omega**2/rho*((k**2+nu**2)*sh_v/nu - 2*gamma*sh_g)\n",
    "    P22 = 1 + 2*mu/omega**2/rho * (2*k**2*sh2_v - (k**2+nu**2)*sh2_g)\n",
    "    P23 = -P14\n",
    "    P24 = 1/omega**2/rho*(2*k**2*sh_v/nu - gamma*sh_g)\n",
    "    \n",
    "    P31 = mu**2/omega**2/rho*(4*k**2*gamma*sh_g - (k**2+nu**2)**2*sh_v/nu)\n",
    "    P32 = 2*mu**2*(k**2+nu**2)*P14\n",
    "    P33 = P11\n",
    "    P34 = -P21\n",
    "    \n",
    "    P41 = -P32\n",
    "    P42 = mu**2/omega**2/rho * (4*k**2*nu*sh_v - (k**2+nu**2)**2*sh_g/gamma)\n",
    "    P43 = -P12\n",
    "    P44 = P22\n",
    "    \n",
    "    return np.array([[P11,P12,P13,P14],\n",
    "                     [P21,P22,P23,P24],\n",
    "                     [P31,P32,P33,P34],\n",
    "                     [P41,P42,P43,P44]])"
   ]
  },
  {
   "cell_type": "markdown",
   "id": "7faea898",
   "metadata": {},
   "source": [
    "# Single layer case\n",
    "Solve $f(z) = P(z,z0)f(z0)$ where $f = (r_1, r_2, r_3, r_4)$ is the Rayleigh wave stress-motion vector, i.e., $r_1$ and $r_2$ are the amplitude coefficients for the horizontal and vertical components of displacement and $r_3$ and $r_4$ are the amplitude coefficients for $\\tau_{zx}$ and $\\tau_{zz}$.\n",
    "\n",
    "When there is a rigid boundary at $z=z_n$, we set $r_1=r_2=0$ there.  Similarly, a free surface has"
   ]
  },
  {
   "cell_type": "code",
   "execution_count": 48,
   "id": "7472f7cf",
   "metadata": {},
   "outputs": [],
   "source": [
    "def find_rayleigh(freq = 2):\n",
    "    free_surface = 0\n",
    "    zn = 10e3\n",
    "    L = np.linspace(1e3,6e3,1000)\n",
    "    det=[]\n",
    "    for wavelength in L:\n",
    "        if freq*wavelength > 6325: \n",
    "            det.append(np.inf)\n",
    "            continue\n",
    "        mat = P(freq*2*np.pi,2*np.pi/wavelength,free_surface,zn)\n",
    "        f1 = np.array([[0],[0],[1],[0]])\n",
    "        f2 = np.array([[0],[0],[0],[1]])\n",
    "        set1 = mat.dot(f1)\n",
    "        set2 = mat.dot(f2)\n",
    "        combo = np.array([ [set1[2][0],set2[2][0]], [set1[3][0],set2[3][0]] ])\n",
    "        det.append(np.linalg.det(combo))\n",
    "    det=np.array(det)\n",
    "    this_L = L[np.argmin(np.abs(det))]\n",
    "    return this_L\n",
    "#     plt.plot(L[det>0],det[det>0])\n",
    "#     plt.plot(L[det<0],-det[det<0])\n",
    "#     plt.yscale('log')\n",
    "#     plt.show()"
   ]
  },
  {
   "cell_type": "code",
   "execution_count": 53,
   "id": "082a6fe9",
   "metadata": {},
   "outputs": [
    {
     "name": "stderr",
     "output_type": "stream",
     "text": [
      "<ipython-input-21-c944a65b3fd9>:7: RuntimeWarning: invalid value encountered in sqrt\n",
      "  nu = np.sqrt(k**2 - omega**2 / beta**2)\n",
      "/home/bradlipovsky/anaconda3/lib/python3.8/site-packages/numpy/linalg/linalg.py:2158: RuntimeWarning: invalid value encountered in det\n",
      "  r = _umath_linalg.det(a, signature=signature)\n"
     ]
    },
    {
     "data": {
      "image/png": "[encoded data removed]",
      "text/plain": [
       "<Figure size 640x480 with 1 Axes>"
      ]
     },
     "metadata": {},
     "output_type": "display_data"
    }
   ],
   "source": [
    "fs = np.linspace(0.1,10,100)\n",
    "c = []\n",
    "for freq in fs:\n",
    "    c.append(find_rayleigh(freq=freq))\n",
    "    \n",
    "plt.subplots()\n",
    "plt.plot(fs,c)\n",
    "plt.show()"
   ]
  },
  {
   "cell_type": "code",
   "execution_count": null,
   "id": "33230fe8",
   "metadata": {},
   "outputs": [],
   "source": []
  }
 ],
 "metadata": {
  "kernelspec": {
   "display_name": "Python (ObsPy)",
   "language": "python",
   "name": "obspy"
  },
  "language_info": {
   "codemirror_mode": {
    "name": "ipython",
    "version": 3
   },
   "file_extension": ".py",
   "mimetype": "text/x-python",
   "name": "python",
   "nbconvert_exporter": "python",
   "pygments_lexer": "ipython3",
   "version": "3.8.2"
  }
 },
 "nbformat": 4,
 "nbformat_minor": 5
}
